{
  "nbformat": 4,
  "nbformat_minor": 0,
  "metadata": {
    "colab": {
      "provenance": [],
      "authorship_tag": "ABX9TyN+7JLKpri8QuwQA7D/3QzG",
      "include_colab_link": true
    },
    "kernelspec": {
      "name": "python3",
      "display_name": "Python 3"
    },
    "language_info": {
      "name": "python"
    }
  },
  "cells": [
    {
      "cell_type": "markdown",
      "metadata": {
        "id": "view-in-github",
        "colab_type": "text"
      },
      "source": [
        "<a href=\"https://colab.research.google.com/github/gllinasmac/ptd/blob/main/apunts/PTD_Apunts_04_Estructures_iteratives.ipynb\" target=\"_parent\"><img src=\"https://colab.research.google.com/assets/colab-badge.svg\" alt=\"Open In Colab\"/></a>"
      ]
    },
    {
      "cell_type": "markdown",
      "source": [
        "# Estructures repetitives\n",
        "\n",
        "Les estructures repetitives són fragments de codi que es repeteixen repetides vegades en el que es coneix també com a **bucles**.\n",
        "\n",
        "Hi ha dos tipus de bucles:\n",
        "* El **bucle `while`**,  que fa que les instruccions s'executin mentre es compleixi certa condició.\n",
        "* El **bucle `for`** , que fa que les instruccions s'executin un nombre determinat de vegades."
      ],
      "metadata": {
        "id": "QN_ZiqtDYV1V"
      }
    },
    {
      "cell_type": "markdown",
      "source": [
        "\n",
        "\n",
        "## 1. Bucle while\n",
        "\n",
        "Recordem l'estructura de la instrucció `if `, que executava el codi UNA sola vegada si l'expressió condicional era certa:\n",
        "\n",
        "```\n",
        "if <expressio_condicional> :\n",
        "  <instrucció_1>\n",
        "  <instrucció_2>\n",
        "  :\n",
        "  :\n",
        "  <instrucció_n>\n",
        "```\n",
        "\n",
        "L'estructura `while` és molt semblant a l'estructura `if`.\n",
        "```\n",
        "while <expressio_condicional> :\n",
        "  <instrucció_1>\n",
        "  <instrucció_2>\n",
        "  :\n",
        "  :\n",
        "  <instrucció_n>\n",
        "```\n",
        "(Anomenarem **cos del bucle** al conjunt d'instruccions que estan dintre del `while`.)\n",
        "\n",
        "Amb la diferència que les instruccions (cos del bucle) s'executen sempre que la condició que s'avaluï sigui `True`. És a dir, **el cos del bucle es repetirà mentre la condició sigui certa**\n",
        "\n",
        "Quan la condició sigui `False`, les instruccions no s'executaran i el programa continuarà. Si al arribar per primera vegada al bucle, la condició resulta ser `False`, el cos del bucle no s'executarà ni una sola vegada.\n",
        "\n",
        "\n",
        "\n"
      ],
      "metadata": {
        "id": "PSfGJEnlYZuy"
      }
    },
    {
      "cell_type": "markdown",
      "source": [
        "## 1.1. Primer exemple `while`. Nombre positiu\n",
        "\n",
        "Vegem un exemple de programa que demana a l'usuari un nombre positiu i, en cas de no fer-ho, li torna a demanar."
      ],
      "metadata": {
        "id": "7i-YJFbA1gk0"
      }
    },
    {
      "cell_type": "code",
      "source": [
        "nombre = float(input(\"Escriu un nombre positiu: \"))\n",
        "while nombre < 0:\n",
        "  print(\"El nombre\",nombre,\"no és positiu. Escriu un nombre major que 0 per a poder continuar el programa\")\n",
        "  nombre = float(input(\"Escriu un nombre positiu: \"))\n",
        "\n",
        "print(\"El nombre introduït és correcte, pots continuar el programa\")"
      ],
      "metadata": {
        "colab": {
          "base_uri": "https://localhost:8080/"
        },
        "id": "m78khe5_z8Wl",
        "outputId": "6b2e013f-217a-40fe-d464-2b2a7e257a27"
      },
      "execution_count": null,
      "outputs": [
        {
          "name": "stdout",
          "output_type": "stream",
          "text": [
            "Escriu un nombre positiu-2\n",
            "El nombre -2.0 no és positiu. Escriu un nombre major que 0 per a poder continuar el programa\n",
            "Escriu un nombre positiu2\n"
          ]
        }
      ]
    },
    {
      "cell_type": "markdown",
      "source": [],
      "metadata": {
        "id": "IitOCPnx6Dsj"
      }
    },
    {
      "cell_type": "markdown",
      "source": [
        "## 1.2. Bucle infinit\n",
        "\n",
        "\n",
        "La idea és que el cos del bucle contengui qualque mecanisme perquè es modifiqui la condició i en qualque moment, la condició sigui falsa perquè el nostre programa continuï i, eventualment, acabar.\n",
        "\n",
        "Si no ho feim, entrarem en un **bucle sense fi** o **bucle infinit** i el nostre programa no acabarà mai.\n",
        "\n",
        "Vegem un exemple, si cream un script amb el següent codi:"
      ],
      "metadata": {
        "id": "hjJ5lA07zOkc"
      }
    },
    {
      "cell_type": "code",
      "source": [
        "while 2 == 2:\n",
        "  print(\"Estic a un bucle infinit!!\")"
      ],
      "metadata": {
        "id": "6Hf8dNLJzhUk"
      },
      "execution_count": null,
      "outputs": []
    },
    {
      "cell_type": "markdown",
      "source": [
        "En ocasions, el bucle infinit pot ser més sutil:"
      ],
      "metadata": {
        "id": "mQ1f8ji_5R33"
      }
    },
    {
      "cell_type": "code",
      "source": [
        "nombre = int(input(\"Escriu un nombre: \"))\n",
        "while nombre**2 > 0:\n",
        "  print(f\"El nombre és {nombre}\")"
      ],
      "metadata": {
        "id": "uD6MobSy5VX-"
      },
      "execution_count": null,
      "outputs": []
    },
    {
      "cell_type": "markdown",
      "source": [
        "### Exercici 1.1. Contrasenya\n",
        "\n",
        "Elabora un programa que demani a l'usuari una contrasenya i, en cas que no la posi correcta, li torni a demanar fins que ho encerti. NOTA: La contrasenya és \"ptd1\""
      ],
      "metadata": {
        "id": "H6ONh-9d0s2r"
      }
    },
    {
      "cell_type": "markdown",
      "source": [
        "### Exercici 1.2. Múltiple de 3\n",
        "\n",
        "Elabora un programa que demani un nombre a l'usuari i no el deixi avançar fins que no escrigui un múltiple de 3."
      ],
      "metadata": {
        "id": "EAlVbobG1C5e"
      }
    },
    {
      "cell_type": "markdown",
      "source": [
        "## 1.3. Interacció amb l'usuari\n",
        "\n",
        "Com has vist, una de les majors aplicacions dels bucles `while` és controlar les entrades de l'usuari.\n",
        "\n",
        "Un exemple típic que podràs adaptar als teus programes és demanar a l'usuari que premi una tecla per a sortir del programa i, en cas de prémer qualsevol altra tecla, tornar a executar-lo. Observa el següent codi:"
      ],
      "metadata": {
        "id": "pnMnBjJy1rnW"
      }
    },
    {
      "cell_type": "code",
      "source": [
        "print(\"Benvingut al programa per a determinar si un nombre és par.\")\n",
        "resposta_usuari = input(\"Prem qualsevol tecla per a començar i 'q' per a sortir del programa\")\n",
        "\n",
        "while resposta_usuari != 'q':\n",
        "  nombre = int(input(\"Escriu un nombre i et diré si és par: \"))\n",
        "  if nombre % 2 == 0:\n",
        "    print(\"És par!\")\n",
        "  else:\n",
        "    print(\"És impar!\")\n",
        "  resposta_usuari = input(\"Prem qualsevol tecla per a començar i 'q' per a sortir del programa\")\n",
        "\n",
        "print(\"Adeu!\")"
      ],
      "metadata": {
        "colab": {
          "base_uri": "https://localhost:8080/"
        },
        "id": "aRCOpAsN2I1X",
        "outputId": "2662fe64-4b83-4fa7-8455-576fe0284826"
      },
      "execution_count": null,
      "outputs": [
        {
          "name": "stdout",
          "output_type": "stream",
          "text": [
            "Benvingut al programa per a determinar si un nombre és par.\n",
            "Prem qualsevol tecla per a començar i 'q' per a sortir del programa2\n",
            "Escriu un nombre i et diré si és par: 4\n",
            "És par!\n",
            "Prem qualsevol tecla per a començar i 'q' per a sortir del programa4\n",
            "Escriu un nombre i et diré si és par: 3\n",
            "És impar!\n",
            "Prem qualsevol tecla per a començar i 'q' per a sortir del programaq\n"
          ]
        }
      ]
    },
    {
      "cell_type": "markdown",
      "source": [
        "### Exercici 1.3.1. Contrasenya\n",
        "\n",
        "Elabora un programa que demani a l'usuari un usuari i una contrasenya. Si l'encerta se l'ha d'avisar que ha entrat en el programa, si falla l'usuari se li ha d'indicar que ha fallat l'usuari i si falla la contrasenya que ha fallat la contrasenya. El programa no ha d'acabar fins que premi la tecla 'q' o encerti la contrasenya."
      ],
      "metadata": {
        "id": "x-lF0fdgKBUj"
      }
    },
    {
      "cell_type": "markdown",
      "source": [
        "### Exercici 1.3.2. Encerta el nombre secret\n",
        "\n",
        "Un mag ha escollit un nombre secret i ho ha amagat a una variable anomenada `nombre_secret`. Vol que tots els que executin aquest programa juguin al joc *Encerta el nombre secret*. Els qui no encertin el nombre quedaran atrapats en un bucle sense fi per sempre!\n",
        "\n",
        "Elabora un programa que:\n",
        "* Expliqui el funcionament del joc de manera visual (pots emprar les comilles triples)\n",
        "\n",
        "```\n",
        "+================================+\n",
        "| ¡Benvingut al meu joc, muggle! |\n",
        "| Introdueix un nombre enter     |\n",
        "| i encerta el que he            |\n",
        "| escollit per a tu.             |\n",
        "|¿Quin és el meu nombre secret?  |\n",
        "+================================+\n",
        "```\n",
        "\n",
        "* Demani a l'usuari que vagi introduïnt nombres fins que encerti.\n",
        "* Cada cop que falli, se li ha de mostrar el missatge `ja ja ja , estàs atrapat en el meu bucle!`\n",
        "* Quan encerti el nombre, ha de dir `Ben fet muggle! Ets lliure`"
      ],
      "metadata": {
        "id": "ktwV4pMXISBx"
      }
    },
    {
      "cell_type": "markdown",
      "source": [
        "## 1.4. Variables comptador\n",
        "\n",
        "Per acabar de practicar el bucle `while` vegem una situació que normalment resoldrem amb el bucle `for` que veurem a continuació, però que està bé conèixer.\n",
        "\n",
        "Com ho podem fer per a executar les instruccions un nombre determinat de vegades? Una solució és emprar una **variable comptador**, vegem amb un exemple el seu funcionament."
      ],
      "metadata": {
        "id": "6dI_tgK7G66Q"
      }
    },
    {
      "cell_type": "code",
      "source": [
        "comptador = int(input(\"Escriu les vegades que vols que et saludi: \"))\n",
        "\n",
        "while comptador != 0:\n",
        "  print(\"Hola!\")\n",
        "  comptador -= 1\n",
        "\n",
        "print(\"Adeu!\")"
      ],
      "metadata": {
        "id": "S8OMAf3eHUq6"
      },
      "execution_count": null,
      "outputs": []
    },
    {
      "cell_type": "markdown",
      "source": [
        "### Exercici 1.4.1. Taula de multiplicar\n",
        "\n",
        "Elabora un programa que demani a l'usuari la taula de multiplicar que vol imprimir i la mostri en pantalla. En acabar el programa, ha de demanar si vol sortir o si vol tornar a pintar una altra taula de multiplicar.\n",
        "```\n",
        "TAULA DEL 3\n",
        "3 x 1 = 3\n",
        "3 x 2 = 6\n",
        "3 x 3 = 9\n",
        ":\n",
        ":\n",
        "3 x 10 = 30\n",
        "```"
      ],
      "metadata": {
        "id": "Zt_5Af-JJz-j"
      }
    },
    {
      "cell_type": "markdown",
      "source": [
        "# 2. El bucle `for`\n",
        "\n",
        "Amb el bucle `while` podem executar el cos del bucle mentre que es compleixi alguna condició. Ara bé, hi ha una situació que es dóna molt en programació que és executar el cos del bucle un nombre determinat de cops.\n",
        "\n",
        "Imaginem que volem escriure tots els nombres de l'1 fins al 20. Si ho fem amb un bucle `while` seria una cosa així:"
      ],
      "metadata": {
        "id": "MLkLNJVJGw5D"
      }
    },
    {
      "cell_type": "code",
      "source": [
        "i = 0\n",
        "while i < 20:\n",
        "  print(i)\n",
        "  i += 1"
      ],
      "metadata": {
        "id": "RqpIQbxj9lRT"
      },
      "execution_count": null,
      "outputs": []
    },
    {
      "cell_type": "markdown",
      "source": [
        "Observa que quan sabem el nombre de cops que volem executar el bucle, hem d'utilitzar una variable **comptador** que és `i` en el programa anterior (en programació, és comú emprar `i` o `j` per a les variables comptador.\n",
        "\n",
        "Per aquests casos, existeix el bucle `for` que facilita la creació d'aquests bucles (i que més endavant veurem que s'empra molt per a recórrer llistes de nombres). Serà un bucle que empraràs molt.\n",
        "\n",
        "Vegem com seria l'anterior exemple amb aquest bucle."
      ],
      "metadata": {
        "id": "YX-9Vv4A9t_1"
      }
    },
    {
      "cell_type": "code",
      "source": [
        "for i in range(20):\n",
        "  print(i)"
      ],
      "metadata": {
        "id": "Pln82Pd0-hTt"
      },
      "execution_count": null,
      "outputs": []
    },
    {
      "cell_type": "markdown",
      "source": [
        "Vegem els elements nous:\n",
        "* `for` és el nom del bucle. Observa que no hi ha condició booleana com en el bucle `while`\n",
        "* `i` és la variable comptadora i en els bucles `for` s'anomena **variable de control**. Podria tenir qualsevol altra nom i s'encarregarà de comptar els girs del bucle de manera automàtica.\n",
        "* `in` indicarà que la variable de control agafarà valors d'un cert rang\n",
        "* `range(<nombre>)` és una funció que genera el rang de valors que agafarà la variable de control `i`. Si posam simplement un nombre , aquesta funció generarà tots els nombres del 0 fins al `<nombre> - 1`\n",
        "\n",
        "Vegem un exemple de com funciona la funció `range()`"
      ],
      "metadata": {
        "id": "JRUNq8LQ-j56"
      }
    },
    {
      "cell_type": "code",
      "source": [
        "for i in range(10):\n",
        "  print(\"El valor de i és \",i)"
      ],
      "metadata": {
        "colab": {
          "base_uri": "https://localhost:8080/"
        },
        "id": "5uRNUTVp_n3C",
        "outputId": "47309e52-82ed-4b86-cbc6-e944ad6d24da"
      },
      "execution_count": null,
      "outputs": [
        {
          "output_type": "stream",
          "name": "stdout",
          "text": [
            "El valor de i és  0\n",
            "El valor de i és  1\n",
            "El valor de i és  2\n",
            "El valor de i és  3\n",
            "El valor de i és  4\n",
            "El valor de i és  5\n",
            "El valor de i és  6\n",
            "El valor de i és  7\n",
            "El valor de i és  8\n",
            "El valor de i és  9\n"
          ]
        }
      ]
    },
    {
      "cell_type": "markdown",
      "source": [
        "### Exercici 2.0.1. Taula de multiplicar (v2)\n",
        "\n",
        "Repeteix l'exercici de la taula de multiplicar però emprant en aquest cas un bucle `for`"
      ],
      "metadata": {
        "id": "uQpYR2G8AV7o"
      }
    },
    {
      "cell_type": "markdown",
      "source": [
        "## 2.1. La funció `range()`\n",
        "\n",
        "Ara anem a veure les diferents opcions que tenim amb la funció `range()`\n",
        "\n",
        "Tenim que la funció pot acceptar fins a **tres arguments**:"
      ],
      "metadata": {
        "id": "WUqVqXysAOh4"
      }
    },
    {
      "cell_type": "code",
      "source": [
        "for i in range(2,8,3):\n",
        "  print(\"El valor de i és\",i)"
      ],
      "metadata": {
        "colab": {
          "base_uri": "https://localhost:8080/"
        },
        "id": "W_RfkIX1Ajyo",
        "outputId": "6844b2fe-93af-4395-f7c8-8b917e944931"
      },
      "execution_count": null,
      "outputs": [
        {
          "output_type": "stream",
          "name": "stdout",
          "text": [
            "El valor de i és 2\n",
            "El valor de i és 5\n"
          ]
        }
      ]
    },
    {
      "cell_type": "markdown",
      "source": [
        "Vegent l'exemple podem deduir que:\n",
        "\n",
        "\n",
        "*   El primer argument és l'**inici del rang** (començam desde 2)\n",
        "* El segon argument és el **final del rang** (no inclòs), és a dir, arribarem fins a 8 i quan hi arribem o ens passem ens aturarem.\n",
        "* El tercer argument és l'**increment** i indica el valor que sumam a cada iteració del bucle a la variable de control (i)\n",
        "\n",
        "Observa com ho podem fer si volem escriure tots els nombres pars entre 10 i 30\n",
        "\n"
      ],
      "metadata": {
        "id": "EALSsTkGApGu"
      }
    },
    {
      "cell_type": "code",
      "source": [
        "for i in range(10,30,2):\n",
        "  print(i)"
      ],
      "metadata": {
        "colab": {
          "base_uri": "https://localhost:8080/"
        },
        "id": "3dr2CStZCEJS",
        "outputId": "cedcef48-b3e7-4b97-a603-d6f8bf798482"
      },
      "execution_count": null,
      "outputs": [
        {
          "output_type": "stream",
          "name": "stdout",
          "text": [
            "10\n",
            "12\n",
            "14\n",
            "16\n",
            "18\n",
            "20\n",
            "22\n",
            "24\n",
            "26\n",
            "28\n"
          ]
        }
      ]
    },
    {
      "cell_type": "markdown",
      "source": [
        "Si només posam **un argument**, hem vist que el valor que posam és el final del rang i, l'inici del rang serà per defecte 0 i l'increment serà per defecte 1.\n",
        "\n",
        "Si posam **dos arguments**, el primer serà l'inici del rang i el segon serà el final del rang. L'increment serà per defecte 1."
      ],
      "metadata": {
        "id": "q8HoEbFrCBEb"
      }
    },
    {
      "cell_type": "code",
      "source": [
        "base = 2\n",
        "for expo in range(1,10):\n",
        "  print(base,\"a la potencia de\",expo,\"es\",base**expo)"
      ],
      "metadata": {
        "colab": {
          "base_uri": "https://localhost:8080/"
        },
        "id": "d4xgibpBBkac",
        "outputId": "52d95cf2-b765-459f-a7ce-ad0d171fea4f"
      },
      "execution_count": null,
      "outputs": [
        {
          "output_type": "stream",
          "name": "stdout",
          "text": [
            "2 a la potencia de 1 es 2\n",
            "2 a la potencia de 2 es 4\n",
            "2 a la potencia de 3 es 8\n",
            "2 a la potencia de 4 es 16\n",
            "2 a la potencia de 5 es 32\n",
            "2 a la potencia de 6 es 64\n",
            "2 a la potencia de 7 es 128\n",
            "2 a la potencia de 8 es 256\n",
            "2 a la potencia de 9 es 512\n"
          ]
        }
      ]
    },
    {
      "cell_type": "markdown",
      "source": [
        "### Exercici 2.1.1. Suma n primers nombres\n",
        "\n",
        "Elabora un programa que sumi els n primers nombres.\n",
        "\n",
        "El programa ha de demanar el nombre fins on vol sumar a l'usuari i quan acabi ha de demanar a l'usuari si vol tornar-lo a executar"
      ],
      "metadata": {
        "id": "tsFeBnJkBmh7"
      }
    },
    {
      "cell_type": "markdown",
      "source": [
        "### Exercici 2.1.2 Mississipi\n",
        "\n",
        "Els fiets petits, quan juguen a fet i amagar han de comptar fins a 5. Per tal de controlar millor els segons, en lloc de comptar 1,2,3,4,5 compten 1 mississipi, 2 mississipis, ....\n",
        "\n",
        "Elabora un programa  que compti *Mississippi* fins a 5 cada segon emprant un bucle `for`. Després de comptar fins a 5, el programa ha d'imprimir el missatge final \"Llests o no, allà que venc!\"\n",
        "\n",
        "Per a poder controlar que aparegui un missatge cada segon has d'emprar un mòdul especial que es diu `time`. Per emprar o **importar un mòdul** utilitzam al principi del programa la instrucció `import time`\n",
        "\n",
        "Un cop hem importat el mòdul, podem emprar la funció `sleep(<segons>)` per a pausar el programa un nombre determinat de segons. Ara bé, ja que la funció està al mòdul `time`, ho hem de fer de la següent manera: `time.sleep(<segons>)`. En el cas que vulguem aturar 1 segon, seria `time.sleep(1)`\n",
        "\n",
        "La sortida esperada seria:\n",
        "```\n",
        "1 Mississippi\n",
        "2 Mississippi\n",
        "3 Mississippi\n",
        "4 Mississippi\n",
        "5 Mississippi\n",
        "Llests o no, allà que venc!\n",
        "```"
      ],
      "metadata": {
        "id": "V5HpQZ4sFsoR"
      }
    },
    {
      "cell_type": "markdown",
      "source": [
        "### Exercici 2.1.3. Mostrar múltiples de n\n",
        "\n",
        "Elabora un programa que mostri els múltiples de k fins a un cert nombre n. Per exemple, tots els múltiples de 3 menors que 10 (3, 6 i 9).\n",
        "\n",
        "El programa ha de demanar el múltiple i també fins on ha de mirar i quan acabi ha de demanar a l'usuari si vol tornar-lo a executar"
      ],
      "metadata": {
        "id": "6YD6Vx1sCr_L"
      }
    },
    {
      "cell_type": "markdown",
      "source": [
        "### Exercici 2.1.4. Divisors\n",
        "\n",
        "Elabora un programa que mostri tots els divisors d'un nombre.\n",
        "\n",
        "El programa ha de demanar el nombre i quan acabi ha de demanar si ho vol tornar a executar."
      ],
      "metadata": {
        "id": "dkbaI2ZTDNQU"
      }
    },
    {
      "cell_type": "markdown",
      "source": [
        "### Exercici 2.1.5. Suma alternada\n",
        "\n",
        "Elabora un programa que calculi $1-2+3-4 ...$ fins a un nombre introduït per l'usuari.\n",
        "\n",
        "Pista:\n",
        "* $1 ⋅ 1 = 1$\n",
        "* $2 ⋅(-1) = -2$\n",
        "* $3 ⋅ 1 = 3$\n",
        "* $4 ⋅ (-1) = 4$\n",
        "\n",
        "Pista 2:\n",
        "* $(-1)^1 = -1$\n",
        "* $(-1)^2 = 1$\n",
        "* $(-1)^3 = -1$\n",
        "* $(-1)^4 = 1$"
      ],
      "metadata": {
        "id": "zmGqiF66DXL8"
      }
    },
    {
      "cell_type": "markdown",
      "source": [
        "# 3. Altres maneres de sortir dels bucles"
      ],
      "metadata": {
        "id": "GJh1-qxaGs-T"
      }
    },
    {
      "cell_type": "markdown",
      "source": [
        "## 3.1. La instrucció `break`\n",
        "\n",
        "El sistema anterior funciona correctament, però pot complicar una mica el codi si les condicions de sortida del bucle són complicades.\n",
        "\n",
        "A més, observa que hem de demanar dos cops a l'usuari que premi una tecla per a continuar, però normalment quan executam el programa volem que almenys s'executi un cop.\n",
        "\n",
        "Per a solucionar-ho, una solució és emprar un bucle infinit i la funció `break` per a sortir del bucle:\n",
        "\n",
        "Vegem el mateix exemple anterior, però amb la funció break"
      ],
      "metadata": {
        "id": "IpZlh7OUzpff"
      }
    },
    {
      "cell_type": "code",
      "source": [
        "print(\"Benvingut al programa per a determinar si un nombre és par.\")\n",
        "\n",
        "while True:\n",
        "  nombre = int(input(\"Escriu un nombre i et diré si és par: \"))\n",
        "  if nombre % 2 == 0:\n",
        "    print(\"És par!\")\n",
        "  else:\n",
        "    print(\"És impar!\")\n",
        "  resposta_usuari = input(\"Prem qualsevol tecla per a començar i 'q' per a sortir del programa\")\n",
        "  if resposta_usuari == 'q':\n",
        "    break\n",
        "\n",
        "print(\"Adeu!\")"
      ],
      "metadata": {
        "id": "tDXm-0tQ4SGC"
      },
      "execution_count": null,
      "outputs": []
    },
    {
      "cell_type": "markdown",
      "source": [
        "\n",
        "\n",
        "Vegem un altre exemple amb un programa que compta quants de nombres pars i impars s'han introduït. El programa acaba quan s'ingressa un zero."
      ],
      "metadata": {
        "id": "PTXdsMkl5_fJ"
      }
    },
    {
      "cell_type": "code",
      "source": [
        "quantitat_pars = 0\n",
        "quantitat_impars = 0\n",
        "\n",
        "while True:\n",
        "  nombre = int(input(\"Introdueix un nombre o escriu 0 per aturar\"))\n",
        "  if nombre == 0:\n",
        "    break\n",
        "  if nombre % 2 == 0:\n",
        "    quantitat_pars += 1 # quantitat_pars = quantitat_pars + 1\n",
        "    print(\"Nombre par introduït\")\n",
        "  else:\n",
        "    quantitat_impars += 1\n",
        "    print(\"Nombre impar introduït\")\n",
        "\n",
        "print(f\"Quantitat de nombres pars introduïts: {quantitat_pars}\")\n",
        "print(f\"Quantitat de nombres impars introduïts: {quantitat_impars}\")\n"
      ],
      "metadata": {
        "colab": {
          "base_uri": "https://localhost:8080/"
        },
        "id": "VLpr-iRY6XYh",
        "outputId": "d66145ce-fb07-49dc-903e-cd5528a05211"
      },
      "execution_count": null,
      "outputs": [
        {
          "output_type": "stream",
          "name": "stdout",
          "text": [
            "Introdueix un nombre o escriu 0 per aturar3\n",
            "Introdueix un nombre o escriu 0 per aturar4\n",
            "Introdueix un nombre o escriu 0 per aturar5\n",
            "Introdueix un nombre o escriu 0 per aturar4\n",
            "Introdueix un nombre o escriu 0 per aturar0\n",
            "Quantitat de nombres pars introduïts: 2\n",
            "Quantitat de nombres impars introduïts: 2\n"
          ]
        }
      ]
    },
    {
      "cell_type": "markdown",
      "source": [
        "## 3.2. La instrucció `continue`\n",
        "\n",
        "Una variant de la instrucció `break` que pot ser útil és `continue`. Si `break` surt per complet del bucle, `continue` el que fa és ometre la resta del codi de l'iteració.\n",
        "\n",
        "Això és útil quan volem que una part del cos del bucle s'executi només en certes ocasions.\n",
        "\n",
        "Per exemple, vegem una millora del programa anterior que, en cas que escrigui un nombre negatiu, no realitzi la comprovació del compteig, ja que l'operació mòdul no es realitzaria adecuadament."
      ],
      "metadata": {
        "id": "NRrlCrFV7XV9"
      }
    },
    {
      "cell_type": "code",
      "source": [
        "quantitat_pars = 0\n",
        "quantitat_impars = 0\n",
        "\n",
        "while True:\n",
        "  nombre = int(input(\"Introdueix un nombre o escriu 0 per aturar\"))\n",
        "  if nombre == 0:\n",
        "    break\n",
        "  if nombre < 0:\n",
        "    print(\"Has d'escriure un nombre positiu\")\n",
        "    continue\n",
        "\n",
        "  if nombre % 2 == 0:\n",
        "    quantitat_pars += 1 # quantitat_pars = quantitat_pars + 1\n",
        "    print(\"Nombre par introduït\")\n",
        "  else:\n",
        "    quantitat_impars += 1\n",
        "    print(\"Nombre impar introduït\")\n",
        "\n",
        "print(f\"Quantitat de nombres pars introduïts: {quantitat_pars}\")\n",
        "print(f\"Quantitat de nombres impars introduïts: {quantitat_impars}\")\n"
      ],
      "metadata": {
        "id": "LnXGT2pB8vYO"
      },
      "execution_count": null,
      "outputs": []
    },
    {
      "cell_type": "markdown",
      "source": [
        "### Exercici. Sortir d'un bucle infinit\n",
        "\n",
        "Elabora un programa que entri en un bucle infinit i que no deixi sortir a l'usuari fins que no escrigui la paraula clau \"sortir\". Utilitza la instrucció `break`.\n",
        "\n",
        "Si aconsegueix sortir del bucle, ha d'escriure \"Has sortit del bucle amb èxit\"."
      ],
      "metadata": {
        "id": "uJPGK1_99Kwa"
      }
    },
    {
      "cell_type": "markdown",
      "source": [
        "# 4. Bucles amb text\n",
        "\n",
        "En els nostres programes, serà útil poder iterar a través de totes les lletres d'un text.\n",
        "\n",
        "Per a fer-ho, hem de sabre que:\n",
        "* Per accedir a les lletres d'un paraula, ho pots fer amb `[]`, tenint en compte que la primera lletra és la posició 0\n",
        "* Per a sabre la quantitat de lletres d'una paraula, ho pots fer amb la funció `len(<paraula>)`\n",
        "* Per tractar amb les majúsucules i minúscules podem emprar les funcions de classe `.upper()` i `.lower()`. El que es fa normalment és guardar sempre el text amb minúscula.\n",
        "* Ja que la primera lletra és el zero, la darrera lletra serà `len(<paraula>) - 1`"
      ],
      "metadata": {
        "id": "_wtxfrKDERZ1"
      }
    },
    {
      "cell_type": "code",
      "source": [
        "# Exemple de funcionament de la funció .upper i .lower\n",
        "\n",
        "paraula = \"Juan\"\n",
        "\n",
        "print(\"En minúscules és: \",paraula.lower())\n",
        "print(\"En majúscules és: \",paraula.upper())\n",
        "\n",
        "print(\"La primera lletra és:\",paraula[0])\n",
        "print(\"La segona lletra és:\",paraula[1])\n",
        "\n",
        "print(\"La paraula\", paraula, \"té\",len(paraula),\"lletres\")\n",
        "print(\"La darrera lletra és:\",paraula[len(paraula)-1])\n"
      ],
      "metadata": {
        "colab": {
          "base_uri": "https://localhost:8080/"
        },
        "id": "NbtUwjkSDAsK",
        "outputId": "caa10fac-6bb5-4b35-a290-8d7b495c5b56"
      },
      "execution_count": null,
      "outputs": [
        {
          "output_type": "stream",
          "name": "stdout",
          "text": [
            "juan\n",
            "JUAN\n",
            "La primera lletra és  J\n",
            "La segona lletra és  u\n",
            "La paraula Juan té 4 lletres\n",
            "La darrera lletra és n\n"
          ]
        }
      ]
    },
    {
      "cell_type": "markdown",
      "source": [
        "Vegem un exemple de bucle a través de totes les lletres d'una paraula"
      ],
      "metadata": {
        "id": "sslE92HyFSUJ"
      }
    },
    {
      "cell_type": "code",
      "source": [
        "print(\"Benvingut al programa que separa les lletres en una línia diferent en majúscules\")\n",
        "while True:\n",
        "  paraula = input(\"Escriu la paraula que vols utilitzar (escriu 'sortir' per acabar el programa): \")\n",
        "  if paraula.lower() == 'sortir':\n",
        "    break\n",
        "\n",
        "  for pos_lletra in range(0, len(paraula)):\n",
        "    lletra = paraula[pos_lletra].upper()\n",
        "    print(lletra)"
      ],
      "metadata": {
        "id": "lfMei8-LFRFw",
        "colab": {
          "base_uri": "https://localhost:8080/"
        },
        "outputId": "78a3625d-4235-47c1-93f1-f40734d4e4cb"
      },
      "execution_count": null,
      "outputs": [
        {
          "name": "stdout",
          "output_type": "stream",
          "text": [
            "Benvingut al programa que separa les lletres en una línia diferent en majúscules\n",
            "Escriu la paraula que vols utilitzar (escriu 'sortir' per acabar el programa): asdf\n",
            "A\n",
            "S\n",
            "D\n",
            "Escriu la paraula que vols utilitzar (escriu 'sortir' per acabar el programa): sortir\n"
          ]
        }
      ]
    },
    {
      "cell_type": "markdown",
      "source": [
        "Si volem que, en lloc d'emprar una línia nova, generar una paraula nova, tenim que anar concatenant lletra a lletra en una variable de text que inicialment declararem buida."
      ],
      "metadata": {
        "id": "tHK3zAGpHiw1"
      }
    },
    {
      "cell_type": "code",
      "source": [
        "print(\"Benvingut al programa que intercanvia afegeix un guió entre cada lletra\")\n",
        "while True:\n",
        "  paraula = input(\"Escriu la paraula que vols utilitzar (escriu 'sortir' per acabar el programa): \")\n",
        "  if paraula.lower() == 'sortir':\n",
        "    break\n",
        "\n",
        "  nova_paraula = \"\"\n",
        "  for pos_lletra in range(0, len(paraula)):\n",
        "    lletra = paraula[pos_lletra].upper()\n",
        "    nova_paraula += lletra\n",
        "    if pos_lletra != len(paraula) - 1:\n",
        "      nova_paraula += \"-\"\n",
        "\n",
        "  print(nova_paraula)"
      ],
      "metadata": {
        "id": "vK1lPsLDHriH",
        "colab": {
          "base_uri": "https://localhost:8080/",
          "height": 443
        },
        "outputId": "a0ca3dbe-e659-4d48-9411-40a9bb88f598"
      },
      "execution_count": null,
      "outputs": [
        {
          "output_type": "stream",
          "name": "stdout",
          "text": [
            "Benvingut al programa que intercanvia afegeix un guió entre cada lletra\n",
            "Escriu la paraula que vols utilitzar (escriu 'sortir' per acabar el programa): hola\n",
            "H-O-L-A\n"
          ]
        },
        {
          "output_type": "error",
          "ename": "KeyboardInterrupt",
          "evalue": "Interrupted by user",
          "traceback": [
            "\u001b[0;31m---------------------------------------------------------------------------\u001b[0m",
            "\u001b[0;31mKeyboardInterrupt\u001b[0m                         Traceback (most recent call last)",
            "\u001b[0;32m<ipython-input-7-64628656903e>\u001b[0m in \u001b[0;36m<cell line: 2>\u001b[0;34m()\u001b[0m\n\u001b[1;32m      1\u001b[0m \u001b[0mprint\u001b[0m\u001b[0;34m(\u001b[0m\u001b[0;34m\"Benvingut al programa que intercanvia afegeix un guió entre cada lletra\"\u001b[0m\u001b[0;34m)\u001b[0m\u001b[0;34m\u001b[0m\u001b[0;34m\u001b[0m\u001b[0m\n\u001b[1;32m      2\u001b[0m \u001b[0;32mwhile\u001b[0m \u001b[0;32mTrue\u001b[0m\u001b[0;34m:\u001b[0m\u001b[0;34m\u001b[0m\u001b[0;34m\u001b[0m\u001b[0m\n\u001b[0;32m----> 3\u001b[0;31m   \u001b[0mparaula\u001b[0m \u001b[0;34m=\u001b[0m \u001b[0minput\u001b[0m\u001b[0;34m(\u001b[0m\u001b[0;34m\"Escriu la paraula que vols utilitzar (escriu 'sortir' per acabar el programa): \"\u001b[0m\u001b[0;34m)\u001b[0m\u001b[0;34m\u001b[0m\u001b[0;34m\u001b[0m\u001b[0m\n\u001b[0m\u001b[1;32m      4\u001b[0m   \u001b[0;32mif\u001b[0m \u001b[0mparaula\u001b[0m\u001b[0;34m.\u001b[0m\u001b[0mlower\u001b[0m\u001b[0;34m(\u001b[0m\u001b[0;34m)\u001b[0m \u001b[0;34m==\u001b[0m \u001b[0;34m'sortir'\u001b[0m\u001b[0;34m:\u001b[0m\u001b[0;34m\u001b[0m\u001b[0;34m\u001b[0m\u001b[0m\n\u001b[1;32m      5\u001b[0m     \u001b[0;32mbreak\u001b[0m\u001b[0;34m\u001b[0m\u001b[0;34m\u001b[0m\u001b[0m\n",
            "\u001b[0;32m/usr/local/lib/python3.10/dist-packages/ipykernel/kernelbase.py\u001b[0m in \u001b[0;36mraw_input\u001b[0;34m(self, prompt)\u001b[0m\n\u001b[1;32m    849\u001b[0m                 \u001b[0;34m\"raw_input was called, but this frontend does not support input requests.\"\u001b[0m\u001b[0;34m\u001b[0m\u001b[0;34m\u001b[0m\u001b[0m\n\u001b[1;32m    850\u001b[0m             )\n\u001b[0;32m--> 851\u001b[0;31m         return self._input_request(str(prompt),\n\u001b[0m\u001b[1;32m    852\u001b[0m             \u001b[0mself\u001b[0m\u001b[0;34m.\u001b[0m\u001b[0m_parent_ident\u001b[0m\u001b[0;34m,\u001b[0m\u001b[0;34m\u001b[0m\u001b[0;34m\u001b[0m\u001b[0m\n\u001b[1;32m    853\u001b[0m             \u001b[0mself\u001b[0m\u001b[0;34m.\u001b[0m\u001b[0m_parent_header\u001b[0m\u001b[0;34m,\u001b[0m\u001b[0;34m\u001b[0m\u001b[0;34m\u001b[0m\u001b[0m\n",
            "\u001b[0;32m/usr/local/lib/python3.10/dist-packages/ipykernel/kernelbase.py\u001b[0m in \u001b[0;36m_input_request\u001b[0;34m(self, prompt, ident, parent, password)\u001b[0m\n\u001b[1;32m    893\u001b[0m             \u001b[0;32mexcept\u001b[0m \u001b[0mKeyboardInterrupt\u001b[0m\u001b[0;34m:\u001b[0m\u001b[0;34m\u001b[0m\u001b[0;34m\u001b[0m\u001b[0m\n\u001b[1;32m    894\u001b[0m                 \u001b[0;31m# re-raise KeyboardInterrupt, to truncate traceback\u001b[0m\u001b[0;34m\u001b[0m\u001b[0;34m\u001b[0m\u001b[0m\n\u001b[0;32m--> 895\u001b[0;31m                 \u001b[0;32mraise\u001b[0m \u001b[0mKeyboardInterrupt\u001b[0m\u001b[0;34m(\u001b[0m\u001b[0;34m\"Interrupted by user\"\u001b[0m\u001b[0;34m)\u001b[0m \u001b[0;32mfrom\u001b[0m \u001b[0;32mNone\u001b[0m\u001b[0;34m\u001b[0m\u001b[0;34m\u001b[0m\u001b[0m\n\u001b[0m\u001b[1;32m    896\u001b[0m             \u001b[0;32mexcept\u001b[0m \u001b[0mException\u001b[0m \u001b[0;32mas\u001b[0m \u001b[0me\u001b[0m\u001b[0;34m:\u001b[0m\u001b[0;34m\u001b[0m\u001b[0;34m\u001b[0m\u001b[0m\n\u001b[1;32m    897\u001b[0m                 \u001b[0mself\u001b[0m\u001b[0;34m.\u001b[0m\u001b[0mlog\u001b[0m\u001b[0;34m.\u001b[0m\u001b[0mwarning\u001b[0m\u001b[0;34m(\u001b[0m\u001b[0;34m\"Invalid Message:\"\u001b[0m\u001b[0;34m,\u001b[0m \u001b[0mexc_info\u001b[0m\u001b[0;34m=\u001b[0m\u001b[0;32mTrue\u001b[0m\u001b[0;34m)\u001b[0m\u001b[0;34m\u001b[0m\u001b[0;34m\u001b[0m\u001b[0m\n",
            "\u001b[0;31mKeyboardInterrupt\u001b[0m: Interrupted by user"
          ]
        }
      ]
    },
    {
      "cell_type": "markdown",
      "source": [
        "### Exercici 4.1. Menjar vocals\n",
        "\n",
        "Elabora un programa que demani una paraula a l'usuari i la imprimeixi sense vocals en majúscula.\n",
        "\n",
        "El programa ha de demanar introduir noves paraules fins que l'usuari premi la tecla `q` (en majúscula o minúscula).\n",
        "\n",
        "Tingues en compte que l'usuari pot escriure lletres en majúscula i minúscula. Per a tractar amb això, es sol passar tot a minúscula o tot a majúscula amb la funció `.lower()` o `.upper()`.\n",
        "\n",
        "\n",
        "\n",
        "```\n",
        "ENTRADA: biel\n",
        "SORTIDA:\n",
        "BL\n",
        "\n",
        "ENTRADA: MAGDALENA\n",
        "SORTIDA: MGDLN\n",
        "```"
      ],
      "metadata": {
        "id": "p8INeWWV9sKe"
      }
    },
    {
      "cell_type": "markdown",
      "source": [
        "### Exercici 4.2. CSV\n",
        "\n",
        "Una manera que tenim de guardar informació és a través de fitxers CSV o *Comma Separated Values*, literalment, valors separats per comes.\n",
        "\n",
        "Elabora un programa que, donat una línia amb 4 valors en format CSV, els guardi en variables i els mostri en pantalla\n",
        "\n",
        "```\n",
        "ENTRADA: 3,42,555,3894\n",
        "SORTIDA:\n",
        "Valor1 = 3\n",
        "Valor2 = 42\n",
        "Valor3 = 555\n",
        "Valor4 = 3894\n",
        "```"
      ],
      "metadata": {
        "id": "FXwP3a_VLEO9"
      }
    },
    {
      "cell_type": "code",
      "source": [],
      "metadata": {
        "id": "xQr9vovcLo06"
      },
      "execution_count": null,
      "outputs": []
    }
  ]
}