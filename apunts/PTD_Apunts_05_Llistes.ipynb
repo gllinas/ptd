{
  "cells": [
    {
      "cell_type": "markdown",
      "metadata": {},
      "source": [
        "<a href=\"https://github.com/gllinasmac/ptd/blob/main/apunts/PTD_Apunts_05_Llistes.ipynb\" target=\"_parent\"><img src=\"https://colab.research.google.com/assets/colab-badge.svg\" alt=\"Open In Colab\"/></a>"
      ]
    },
    {
      "cell_type": "markdown",
      "metadata": {
        "id": "Zicv8q1P3inW"
      },
      "source": [
        "# Llistes i arrays\n",
        "\n",
        "En aquesta situació d'aprenentatge veurem una nova estructura de dades que ens servirà per a treballar amb grans quantitats de dades.\n",
        "\n",
        "Aquesta estructura de dades rep el nom de **llistes** o **arrays**"
      ]
    },
    {
      "cell_type": "markdown",
      "metadata": {
        "id": "qfNH2k1254nE"
      },
      "source": [
        "# 1. Introducció"
      ]
    },
    {
      "cell_type": "markdown",
      "metadata": {
        "id": "CVrunkdS4Xce"
      },
      "source": [
        "## 1.1. Per què necessitam llistes?\n",
        "\n",
        "Fins ara hem utilitzat les variables per a emmagatzemar els valors dels nostres programes. Ara bé, que faríem si haguéssim de guardar les notes dels 10 darrers exàmens? Amb les eines que tenim fins ara hauríem de fer alguna cosa així:\n",
        "```\n",
        "nota1 = int(input())\n",
        "nota2 = int(input())\n",
        "nota3 = int(input())\n",
        "nota4 = int(input())\n",
        "nota5 = int(input())\n",
        "nota6 = int(input())\n",
        "nota7 = int(input())\n",
        "nota8 = int(input())\n",
        "nota9 = int(input())\n",
        "nota10 = int(input())\n",
        "```\n",
        "I si n'haguéssim de guardar 100? Realment el procés es fa engorrós i arriba a un punt que és impossible de gestionar. En aquestes situacions és on entren en joc les **llistes**\n",
        "\n",
        "Fins ara hem vist que una variable guarda exactament un valor. Per a solucionar la situació anterior, seria convenient declarar una variable que **pugui guardar més d'un valor**. Aquesta variable serà una llista."
      ]
    },
    {
      "cell_type": "markdown",
      "metadata": {},
      "source": [
        "### Exercici 1.1.1. Utilitat llistes\n",
        "\n",
        "Exposa un exemple on pugui ser d'utilitat emprar llistes per sobre de variables."
      ]
    },
    {
      "cell_type": "markdown",
      "metadata": {
        "id": "4zJDf7u-5x_e"
      },
      "source": [
        "## 1.2. Declaració de llistes\n",
        "\n",
        "Per a declarar una llista ho fem igual que una variable, però en lloc de posar el valor utilitzam `[]`, que és el símbol de llista en Python.\n",
        "\n",
        "A continuació podem veure com crear una **llista buida**"
      ]
    },
    {
      "cell_type": "code",
      "execution_count": null,
      "metadata": {
        "id": "E_ND-kTE3bHa"
      },
      "outputs": [],
      "source": [
        "notes = []"
      ]
    },
    {
      "cell_type": "markdown",
      "metadata": {
        "id": "OzXSwmgP6a0d"
      },
      "source": [
        "Si volem guardar diferents valors dintre de la llista, ho fem separant-los per comes"
      ]
    },
    {
      "cell_type": "code",
      "execution_count": null,
      "metadata": {
        "id": "jKvn7ir36fWX"
      },
      "outputs": [],
      "source": [
        "notes = [3,7,2,7,3]"
      ]
    },
    {
      "cell_type": "markdown",
      "metadata": {
        "id": "rzirN9uR6iVT"
      },
      "source": [
        "En Python, **els elements d'una llista poden ser de diferents tipus**. Si bé en altres llenguatges això no és així i les dades han de ser del mateix tipus (tot enters, tot caràcters...)"
      ]
    },
    {
      "cell_type": "code",
      "execution_count": 1,
      "metadata": {},
      "outputs": [],
      "source": [
        "una_llista = [2, 2.5, \"a\", True, \"bon dia\"]"
      ]
    },
    {
      "cell_type": "markdown",
      "metadata": {},
      "source": [
        "Podem veure els elements d'una llista fent un `print` de la mateixa manera que feiem amb les variables."
      ]
    },
    {
      "cell_type": "code",
      "execution_count": 2,
      "metadata": {},
      "outputs": [
        {
          "name": "stdout",
          "output_type": "stream",
          "text": [
            "[2, 2.5, 'a', True, 'bon dia']\n"
          ]
        }
      ],
      "source": [
        "print(una_llista)"
      ]
    },
    {
      "cell_type": "markdown",
      "metadata": {},
      "source": [
        "### Exercici 1.2.1. Crear llistes\n",
        "\n",
        "Crea una llista que contengui els noms dels alumnes de la classe de PTD i una altra amb les altures.\n",
        "\n",
        "A continuació, mostra el contingut de les dues llistes"
      ]
    },
    {
      "cell_type": "markdown",
      "metadata": {
        "id": "fog8AH_E6_uc"
      },
      "source": [
        "## 1.3. Diferència entre llistes i arrays\n",
        "\n",
        "Hem parlat de llistes i arrays i són conceptes molt semblants, però amb algunes diferències:\n",
        "\n",
        "* Les llistes són de **mida indefinida** i els arrays són de mida fixa\n",
        "* Quan declaram una llista buida, **no fa falta especificar la quantitat d'elements** que hi guardarem a posteriori, però en un array sí que fa falta dir-ho.\n",
        "* Les llistes **poden créixer** de manera indefinida, en canvi, els arrays no. És a dir, si declaram un array de 10 elements, no podem guardar-n'hi 11.\n",
        "\n",
        "En Python, es treballa de forma bàsica amb llistes, per tant no veurem els arrays.\n",
        "\n",
        "En canvi, altres llenguatges utilitzen de forma bàsica els arrays i emprar llistes es torna una mica més complicat. Per tant, quan treballem amb C veurem alguns exemples.\n",
        "\n"
      ]
    },
    {
      "cell_type": "markdown",
      "metadata": {},
      "source": [
        "# 2. Operacions amb llistes"
      ]
    },
    {
      "cell_type": "markdown",
      "metadata": {},
      "source": [
        "## 2.1. Accés al contingut de les llistes\n",
        "\n",
        "Un cop creada la llista sorgeix la qüestió sobre com accedir als seus elements de manera individual. \n",
        "\n",
        "Per a fer-ho, hem de tenir present que cada element de la llista està **indexat** amb un nombre enter.\n",
        "\n",
        "IMPORTANT! En la gran majoria de llenguatges de programació, **el primer element de la llista té l'índex 0**. No ens hem de confondre ja que l'índex 1 serà el segon element, l'índex 2 el tercer ... \n",
        "\n",
        "La sintáxis per a accedir als elements és posar l'índex entre corchetes, `[<índex>]`, just després de la variable. Observa el següent exemple:"
      ]
    },
    {
      "cell_type": "code",
      "execution_count": 5,
      "metadata": {},
      "outputs": [
        {
          "name": "stdout",
          "output_type": "stream",
          "text": [
            "Llista: [10, 4, -2, 5, 3]\n",
            "Primer element: 10\n",
            "Segon element: 4\n",
            "Tercer element: -2\n",
            "Quart element: 5\n",
            "Quint element: 3\n"
          ]
        }
      ],
      "source": [
        "nombres = [10, 4, -2, 5, 3]\n",
        "print(f\"Llista: {nombres}\")\n",
        "print(f\"Primer element: {nombres[0]}\")\n",
        "print(f\"Segon element: {nombres[1]}\")\n",
        "print(f\"Tercer element: {nombres[2]}\")\n",
        "print(f\"Quart element: {nombres[3]}\")\n",
        "print(f\"Quint element: {nombres[4]}\")"
      ]
    },
    {
      "cell_type": "markdown",
      "metadata": {},
      "source": [
        "S'ha de vigilar de no accedir a posicions que no existeixen, ja que si fem això el programa s'aturarà amb un error `IndexError: list index out of range`. \n",
        "\n",
        "Una equivocació molt típica és oblidar que els arrays comencen al 0 i que, per tant, l'índex del darrer element sempre serà un menys que la seva posició. Observa l'exemple següent:"
      ]
    },
    {
      "cell_type": "code",
      "execution_count": 9,
      "metadata": {},
      "outputs": [
        {
          "ename": "IndexError",
          "evalue": "list index out of range",
          "output_type": "error",
          "traceback": [
            "\u001b[0;31m---------------------------------------------------------------------------\u001b[0m",
            "\u001b[0;31mIndexError\u001b[0m                                Traceback (most recent call last)",
            "Cell \u001b[0;32mIn[9], line 2\u001b[0m\n\u001b[1;32m      1\u001b[0m llista \u001b[38;5;241m=\u001b[39m [\u001b[38;5;241m1\u001b[39m,\u001b[38;5;241m2\u001b[39m,\u001b[38;5;241m3\u001b[39m,\u001b[38;5;241m4\u001b[39m,\u001b[38;5;241m5\u001b[39m]\n\u001b[0;32m----> 2\u001b[0m \u001b[38;5;28mprint\u001b[39m(\u001b[43mllista\u001b[49m\u001b[43m[\u001b[49m\u001b[38;5;241;43m5\u001b[39;49m\u001b[43m]\u001b[49m)\n",
            "\u001b[0;31mIndexError\u001b[0m: list index out of range"
          ]
        }
      ],
      "source": [
        "llista = [1,2,3,4,5]\n",
        "print(llista[5])"
      ]
    },
    {
      "cell_type": "markdown",
      "metadata": {},
      "source": [
        "Una altra observació és que és possible emprar **índexos negatius**.  \n",
        "\n",
        "S'ha de tenir en compte que és `-1` és el darrer element de la llista, `-2` el penúltim i així successivament.\n",
        "\n",
        "En principi pot semblar extrany, però en realitat resulta molt útil quan volem accedir als elements en sentit invers, ja que no ens fa falta sabre la longitud de la llista."
      ]
    },
    {
      "cell_type": "code",
      "execution_count": 15,
      "metadata": {},
      "outputs": [
        {
          "name": "stdout",
          "output_type": "stream",
          "text": [
            "Darrer element: 7\n",
            "Penúltim elmenet: 6\n"
          ]
        }
      ],
      "source": [
        "llista = [1,4,5,6,7]\n",
        "print(f\"Darrer element: {llista[-1]}\")\n",
        "print(f\"Penúltim elmenet: {llista[-2]}\")"
      ]
    },
    {
      "cell_type": "markdown",
      "metadata": {},
      "source": [
        "### Exercici 2.1.1. Accedim als dies de la setmana\n",
        "\n",
        "Crea una llista amb els dies feiners de la setmana i, a partir d'ella:\n",
        "* Mostra la llista dels dies\n",
        "* Mostra el primer dia de la setmana\n",
        "* Mostra de dues maneres el darrer dia feiner de la setmana "
      ]
    },
    {
      "cell_type": "markdown",
      "metadata": {},
      "source": [
        "## 2.2. Modificació d'elements de la llista\n",
        "\n",
        "Mitjançant els índexos, podem accedir als elements dels arrays i fer-los servir com si fossin variables. "
      ]
    },
    {
      "cell_type": "code",
      "execution_count": 7,
      "metadata": {},
      "outputs": [
        {
          "name": "stdout",
          "output_type": "stream",
          "text": [
            "Llista original: [10, 4, -2, 5, 3]\n",
            "Substituim el primer element pel valor 99\n",
            "Copiam el valor del 4t element en el segon element\n",
            "Llista modificada: [99, 5, -2, 5, 3]\n"
          ]
        }
      ],
      "source": [
        "llista = [10, 4, -2, 5, 3]\n",
        "print(f\"Llista original: {llista}\")\n",
        "print(\"Substituim el primer element pel valor 99\")\n",
        "llista[0] = 99\n",
        "print(\"Copiam el valor del 4t element en el segon element\")\n",
        "llista[1] = llista[3]\n",
        "print(f\"Llista modificada: {llista}\")\n"
      ]
    },
    {
      "cell_type": "markdown",
      "metadata": {},
      "source": [
        "### Exercici 2.2.1. Canviam l'idioma\n",
        "\n",
        "Emprant la mateixa llista de l'exercici anterior, canvia l'idioma dels dies a castellà. \n",
        "Mostra la llista abans i després de fer el canvi."
      ]
    },
    {
      "cell_type": "markdown",
      "metadata": {},
      "source": [
        "## 2.3. Longitud de la llista\n",
        "\n",
        "Hem vist que, al contrari que els arrays que tenen longitud fixa, la longitud de les llistes pot variar durant el temps d'execució del programa. És a dir, es poden afegir nous elements a la llista, i també se'n poden eliminar. En aquest sentit, la llista és una estructura de dades **dinàmica** mentre que els arrays són una estructura **estàtica**.\n",
        "\n",
        "Si volem sabre la longitud actual de la llista ho podem fer amb la funció `len(<llista>)` (el seu nom prové de *length - longitut*). La funció agafa com a argument la llista i retorna un enter amb el nombre d'elements que conté."
      ]
    },
    {
      "cell_type": "code",
      "execution_count": 8,
      "metadata": {},
      "outputs": [
        {
          "name": "stdout",
          "output_type": "stream",
          "text": [
            "La longitud de la llista [1, 3, 6, 8, 9] és 5\n",
            "La longitud de la llista [1, 2] és 2\n",
            "La longitud de la llista [] és 0\n"
          ]
        }
      ],
      "source": [
        "llista = [1,3,6,8,9]\n",
        "print(f\"La longitud de la llista {llista} és {len(llista)}\")\n",
        "llista = [1,2]\n",
        "print(f\"La longitud de la llista {llista} és {len(llista)}\")\n",
        "llista = []\n",
        "print(f\"La longitud de la llista {llista} és {len(llista)}\")\n"
      ]
    },
    {
      "cell_type": "markdown",
      "metadata": {},
      "source": [
        "### Exercici 2.3.1. Quants dies té la setmana?\n",
        "\n",
        "Amb un print i emprant la llista de l'exercici anterior per a escriure els valors en negreta, escriu la instrucció per a escriure la frase:\n",
        "\n",
        "\"A la setmana hi ha **5** dies feiners que són: **lunes**, **martes**, **miércoles**, **jueves** y **viernes**.\""
      ]
    },
    {
      "cell_type": "markdown",
      "metadata": {},
      "source": [
        "## 2.4. Eliminar elements de la llista\n",
        "\n",
        "Per eliminar un element d'una llista tenim diferents opcions. L'opció més comuna és emprar el mètode `.pop(<índex>)`, que agafa com a argument l'índex de la posició que volem eliminar.\n",
        "\n",
        "Observa que es tracta d'un mètode i no una funció. Recorda que els mètodes s'executen a continuació de les variables posant un punt i modifiquen els seus valors."
      ]
    },
    {
      "cell_type": "code",
      "execution_count": 11,
      "metadata": {},
      "outputs": [
        {
          "name": "stdout",
          "output_type": "stream",
          "text": [
            "La llista es: [1, 3, 5, 7, 10]\n",
            "Eliminam l'element de l'índex 1\n",
            "La llista ara és [1, 5, 7, 10]\n"
          ]
        }
      ],
      "source": [
        "llista = [1,3,5,7,10]\n",
        "print(f\"La llista es: {llista}\")\n",
        "print(\"Eliminam l'element de l'índex 1\")\n",
        "llista.pop(1)\n",
        "print(f\"La llista ara és {llista}\")"
      ]
    },
    {
      "cell_type": "markdown",
      "metadata": {},
      "source": [
        "Una segona opció és emprar el mètode `remove(<element a eliminar>)`, que el que fa és eliminar el primer element de la llista que coincideix amb l'element passat com a paràmetre."
      ]
    },
    {
      "cell_type": "code",
      "execution_count": 13,
      "metadata": {},
      "outputs": [
        {
          "name": "stdout",
          "output_type": "stream",
          "text": [
            "La llista es: [1, 3, 5, 7, 10, 7]\n",
            "Eliminam l'element el valor 7 de la llista\n",
            "La llista ara és [1, 3, 5, 10, 7]\n"
          ]
        }
      ],
      "source": [
        "llista = [1,3,5,7,10,7]\n",
        "print(f\"La llista es: {llista}\")\n",
        "print(\"Eliminam l'element el valor 7 de la llista\")\n",
        "llista.remove(7)\n",
        "print(f\"La llista ara és {llista}\")"
      ]
    },
    {
      "cell_type": "markdown",
      "metadata": {},
      "source": [
        "Una darrera opció que no s'empra massa però que veurem per si la trobam a qualque banda és emprar la instrucció `del <element a eliminar>`. \n",
        "\n",
        "Observa que en aquest cas és una instrucció i no una funció ni un mètode. Això significa que va sense parèntesis."
      ]
    },
    {
      "cell_type": "code",
      "execution_count": 14,
      "metadata": {},
      "outputs": [
        {
          "name": "stdout",
          "output_type": "stream",
          "text": [
            "La llista es: [1, 3, 5, 7, 10, 7]\n",
            "La llista ara és [3, 5, 7, 10, 7]\n"
          ]
        }
      ],
      "source": [
        "llista = [1,3,5,7,10,7]\n",
        "print(f\"La llista es: {llista}\")\n",
        "del llista[0]\n",
        "print(f\"La llista ara és {llista}\")"
      ]
    },
    {
      "cell_type": "markdown",
      "metadata": {},
      "source": [
        "### Pregunta\n",
        "\n",
        "Quina sortida té el següent codi?\n",
        "```\n",
        "lst = [1, 2, 3, 4, 5]\n",
        "lst.insert(1, 6)\n",
        "del lst[0]\n",
        "lst.append(1)\n",
        " \n",
        "print(lst)\n",
        "```"
      ]
    },
    {
      "cell_type": "markdown",
      "metadata": {},
      "source": [
        "### Exercici 2.4.1. Llevam dies feiners\n",
        "\n",
        "A partir d'ara, els divendres no seran dies feiners. Elimina-ho de la llista anterior.\n",
        "\n",
        "Els dilluns tampoc ho seran, elimina-ls però emprant un mètode diferent a l'anterior.\n",
        "\n",
        "Finalment, els dimecres tampoc ho seran, elimina'l emprant un mètode diferent als dos anteriors."
      ]
    },
    {
      "cell_type": "markdown",
      "metadata": {},
      "source": [
        "## 2.5. Afegir elements\n",
        "\n",
        "Tenim dos mètodes per afegir elements a les llistes, `.append(<valor>)` i `.insert(<índex>,<valor>)`\n",
        "\n",
        "El mètode `.append(<valor>)` afegirà el valor entre parèntesis **al final** de la llista.\n",
        "\n",
        "El mètode `.insert(<índex>, <valor>)` introduirà el valor a l'índex que s'indiqui. En aquest cas, tots els elements es desplaçaran una posició a la dreta del nou element (incloent el que es troba a la posició indicada)"
      ]
    },
    {
      "cell_type": "code",
      "execution_count": 17,
      "metadata": {},
      "outputs": [
        {
          "name": "stdout",
          "output_type": "stream",
          "text": [
            "[111, 7, 2, 1]\n",
            "Afegim el nombre 4 al final\n",
            "[111, 7, 2, 1, 4]\n",
            "Afegim el nombre 22 a la primera posició\n",
            "[22, 111, 7, 2, 1, 4]\n",
            "Afegim el nombre 333 a la segona posició\n",
            "[22, 333, 111, 7, 2, 1, 4]\n"
          ]
        }
      ],
      "source": [
        "llista = [111,7,2,1]\n",
        "print(llista)\n",
        "\n",
        "print(\"Afegim el nombre 4 al final\")\n",
        "llista.append(4)\n",
        "print(llista)\n",
        "\n",
        "print(\"Afegim el nombre 22 a la primera posició\")\n",
        "llista.insert(0,22)\n",
        "print(llista)\n",
        "\n",
        "print(\"Afegim el nombre 333 a la segona posició\")\n",
        "llista.insert(1,333)\n",
        "print(llista)"
      ]
    },
    {
      "cell_type": "markdown",
      "metadata": {},
      "source": [
        "### Exercici 2.5.1. Afegim dies\n",
        "\n",
        "Ara tenim que tots els dies, inclosos els caps de setmana, seran dies feiners. Emprant la llista així com l'has deixada a l'exercici anterior, torna a afegir tots els dies a la posició correcte. No pots modificar els valors que ja hi ha."
      ]
    },
    {
      "cell_type": "markdown",
      "metadata": {},
      "source": [
        "## 2.6. Organitzar llistes\n",
        "\n",
        "Hi ha molts de mètodes i funcions que es poden fer servir per a manejar llistes i que ens facilten la feina. \n",
        "\n",
        "Un d'ells molt comú és el mètode `.sort()` que ens ordena una llista alfabèticament"
      ]
    },
    {
      "cell_type": "code",
      "execution_count": null,
      "metadata": {},
      "outputs": [],
      "source": [
        "cotxes = [\"bmw\", \"audi\", \"toyota\", \"subaru\"]\n",
        "cotxes.sort()\n",
        "print(cotxes)"
      ]
    },
    {
      "cell_type": "markdown",
      "metadata": {},
      "source": [
        "Aquest mètode, té un paràmetre que permet ordenar en sentit invers:"
      ]
    },
    {
      "cell_type": "code",
      "execution_count": null,
      "metadata": {},
      "outputs": [],
      "source": [
        "cotxes = [\"bmw\", \"audi\", \"toyota\", \"subaru\"]\n",
        "cotxes.sort(reverse = True)\n",
        "print(cotxes)"
      ]
    },
    {
      "cell_type": "markdown",
      "metadata": {},
      "source": [
        "També  serveix per a ordenar nombres:"
      ]
    },
    {
      "cell_type": "code",
      "execution_count": null,
      "metadata": {},
      "outputs": [],
      "source": [
        "notes = [3,6,2,1,7]\n",
        "notes.sort()\n",
        "print(notes)"
      ]
    },
    {
      "cell_type": "markdown",
      "metadata": {},
      "source": [
        "Recordam que els mètodes modifiquen el contingut de la llista, per tant, si fem servir el mètode anterior, ja no podem recuperar la llista en l'ordre original.\n",
        "\n",
        "Si volem obtenir una còpia ordenada i mantenir l'original, hem de fer servir una funció que es diu `sorted()`. Recorda que en aquest cas, has de guardar aquesta nova llista en una nova variable:"
      ]
    },
    {
      "cell_type": "code",
      "execution_count": null,
      "metadata": {},
      "outputs": [],
      "source": [
        "cotxes = [\"bmw\", \"audi\", \"toyota\", \"subaru\"]\n",
        "cotxes_ordenat = sorted(cotxes)\n",
        "cotxes_ordenat_invers = sorted(cotxes, reverse = True)\n",
        "print(cotxes)\n",
        "print(cotxes_ordenat)\n",
        "print(cotxes_ordenat_invers)"
      ]
    },
    {
      "cell_type": "markdown",
      "metadata": {},
      "source": [
        "### Exercici\n",
        "\n",
        "Per obtenir la lletra del DNI, agafam el nombre, el dividim entre 23 i, al residu, li assignam una lletra:\n",
        "\n",
        "* El residu és 0: la lletra és T.\n",
        "* El residu és 1: la lletra és R.\n",
        "* El residu és 2: la lletra és W.\n",
        "* El residu és 3: la lletra és A.\n",
        "* El residu és 4: la lletra és G.\n",
        "* El residu és 5: la lletra és M.\n",
        "* El residu és 6: la lletra és Y.\n",
        "* El residu és 7: la lletra és F.\n",
        "* El residu és 8: la lletra és P.\n",
        "* El residu és 9: la lletra és D.\n",
        "* El residu és 10: la lletra és X.\n",
        "* El residu és 11: la lletra és B.\n",
        "* El residu és 12: la lletra és N.\n",
        "* El residu és 13: la lletra és J.\n",
        "* El residu és 14: la lletra és Z.\n",
        "* El residu és 15: la lletra és S.\n",
        "* El residu és 16: la lletra és Q.\n",
        "* El residu és 17: la lletra és V.\n",
        "* El residu és 18: la lletra és H.\n",
        "* El residu és 19: la lletra és L.\n",
        "* El residu és 20: la lletra és C.\n",
        "* El residu és 21: la lletra és K.\n",
        "* El residu és 22: la lletra és E\n",
        "\n",
        "Elabora un programa que, donat un DNI amb lletra, determini si és correcte o no. És a dir, si la lletra és correcte.\n",
        "\n",
        "Per a no fer un `if` gegantí, considera emprar una llista."
      ]
    },
    {
      "cell_type": "code",
      "execution_count": null,
      "metadata": {},
      "outputs": [],
      "source": []
    },
    {
      "cell_type": "markdown",
      "metadata": {},
      "source": [
        "## 3.1. Recórrer una llista amb un for\n",
        "\n",
        "És molt comú emprar el bucle `for` per a recórrer les llistes i processar els seus valors.\n",
        "\n",
        "Vegem un exemple de programa que suma tots els valors d'una llista"
      ]
    },
    {
      "cell_type": "code",
      "execution_count": null,
      "metadata": {},
      "outputs": [],
      "source": [
        "llista = [10,1,6,4,6]\n",
        "suma = 0\n",
        "\n",
        "for i in range(len(llista)):\n",
        "    suma += llista[i]\n",
        "\n",
        "print(suma)"
      ]
    },
    {
      "cell_type": "markdown",
      "metadata": {},
      "source": [
        "Observa que hem emprant una variable auxiliar `suma` que inicialment val 0.\n",
        "\n",
        "Després, per a recórrer els elements de la llista, hem fet un bucle `for` amb una variable `i` que recorrerà els diferents índexs (0, 1, 2, 3 i 4) ja que empram la longitud de la llista (`len(llista)`) dintre de `range`.\n",
        "\n",
        "Finalment, anam sumant aquests valors dintre de suma amb l'operador `+=`."
      ]
    },
    {
      "cell_type": "markdown",
      "metadata": {},
      "source": [
        "## 3.2. Forma Python de recórrer una llista\n",
        "\n",
        "L'exemple anterior, il·lustra la manera estàndard de recórrer una llista que s'empra en la majoria dels llenguatges, que és emprant un índex.\n",
        "\n",
        "Python, però, té una manera especial de fer el mateix que és molt més senzilla.\n",
        "\n",
        "Observa el mateix exemple anterior:"
      ]
    },
    {
      "cell_type": "code",
      "execution_count": null,
      "metadata": {},
      "outputs": [],
      "source": [
        "llista = [10,1,6,4,6]\n",
        "suma = 0\n",
        "\n",
        "for nombre in llista:\n",
        "    suma += nombre\n",
        "\n",
        "print(suma)"
      ]
    },
    {
      "cell_type": "markdown",
      "metadata": {},
      "source": [
        "En aquest cas, el que fa Python és assignar directament els valors de la llista a la variable, sense haver de fer servir els índexos ni la funció `len()`"
      ]
    },
    {
      "cell_type": "markdown",
      "metadata": {},
      "source": [
        "### Pregunta\n",
        "\n",
        "Quina sortida té el següent codi?\n",
        "\n",
        "```\n",
        "lst = [1, 2, 3, 4, 5]\n",
        "lst_2 = []\n",
        "add = 0\n",
        " \n",
        "for number in lst:\n",
        "    add += number\n",
        "    lst_2.append(add)\n",
        " \n",
        "print(lst_2)\n",
        "```"
      ]
    },
    {
      "cell_type": "markdown",
      "metadata": {},
      "source": [
        "### Exercici\n",
        "\n",
        "Elabora un programa que, donada una llista de nombres, calculi la mitjana aritmètica"
      ]
    },
    {
      "cell_type": "markdown",
      "metadata": {},
      "source": [
        "### Exercici\n",
        "\n",
        "Elabora un programa que, donada una llista de nombres, trobi el seu valor més gran."
      ]
    },
    {
      "cell_type": "markdown",
      "metadata": {},
      "source": [
        "## 3.3. Altres funcions\n",
        "\n",
        "Sumar tots els elements d'una llista és una acció bastant comuna i, per això, tenim una funció `sum()` que ens fa aquesta feina.\n",
        "\n"
      ]
    },
    {
      "cell_type": "code",
      "execution_count": null,
      "metadata": {},
      "outputs": [],
      "source": [
        "llista = [10,1,6,4,6]\n",
        "\n",
        "suma = sum(llista)\n",
        "\n",
        "print(suma)"
      ]
    },
    {
      "cell_type": "markdown",
      "metadata": {},
      "source": [
        "D'igual manera, hi ha moltes més funcions que fan moltes més coses que es poden consultar a la documentació.\n",
        "\n",
        "És comú quan volem fer alguna cosa, abans de programar-ho nosaltres, fer una cerca a veure si ja existeix una funció que ens ho faci:"
      ]
    },
    {
      "cell_type": "markdown",
      "metadata": {},
      "source": [
        "### Exercici\n",
        "\n",
        "Cerca si existeix qualque funció que, donada la llista anterior:\n",
        "* Et trobi el valor més gran\n",
        "* Et trobi el valor més petit\n",
        "* Et trobi la mitjana aritmètica\n",
        "* Et llevi els duplicats"
      ]
    },
    {
      "cell_type": "markdown",
      "metadata": {},
      "source": [
        "## Copiar una llista\n",
        "\n",
        "S'ha d'anar molt alerta quan volem copiar una llista, ja que no es pot fer igual que amb les variables.\n",
        "\n",
        "Observa el següent exemple per a veure el problema:"
      ]
    },
    {
      "cell_type": "code",
      "execution_count": 1,
      "metadata": {},
      "outputs": [
        {
          "name": "stdout",
          "output_type": "stream",
          "text": [
            "[444, 2, 3]\n"
          ]
        }
      ],
      "source": [
        "llista = [1,2,3]\n",
        "llista_copia = llista\n",
        "llista[0] = 444\n",
        "print(llista_copia)"
      ]
    },
    {
      "cell_type": "markdown",
      "metadata": {},
      "source": [
        "Fixa't que hem modificat la llista, però també s'ha modificat la còpia!\n",
        "\n",
        "Això passa perquè quan guardam una llista, no estam guardant tots els valors, només estam guardant la posició de memòria on està guardat el primer valor de la llista. Així, quan fem `llista_copia = llista` estam copiant aquesta posició de memòria i, quan modificam els valors de la llista original, també es modifiquen els de la còpia (ja que la posició de memòria a la que apunten les dues variables és la mateixa).\n",
        "\n",
        "Per evitar que això passi, hem de fer una còpia completa de la llista:"
      ]
    },
    {
      "cell_type": "code",
      "execution_count": 2,
      "metadata": {},
      "outputs": [
        {
          "name": "stdout",
          "output_type": "stream",
          "text": [
            "[1, 2, 3]\n"
          ]
        }
      ],
      "source": [
        "llista = [1,2,3]\n",
        "llista_copia = []\n",
        "for element in llista:\n",
        "    llista_copia.append(element)\n",
        "\n",
        "llista[0] = 444\n",
        "print(llista_copia)\n"
      ]
    },
    {
      "cell_type": "markdown",
      "metadata": {},
      "source": [
        "Hi ha una manera molt curta de fer lo anterior per no haver de fer servir un bucle `for` que convé tenir present."
      ]
    },
    {
      "cell_type": "code",
      "execution_count": 3,
      "metadata": {},
      "outputs": [
        {
          "name": "stdout",
          "output_type": "stream",
          "text": [
            "[1, 2, 3]\n"
          ]
        }
      ],
      "source": [
        "llista = [1,2,3]\n",
        "llista_copia = llista[:]\n",
        "\n",
        "llista[0] = 444\n",
        "print(llista_copia)"
      ]
    },
    {
      "cell_type": "markdown",
      "metadata": {},
      "source": [
        "## Parts de llistes\n",
        "\n",
        "Vegem com podem crear llistes a partir de parts d'una llista\n",
        "\n",
        "Imaginem que tenim una llista els corredors d'una carrera i volem fer una llista nova amb els que han fet podium"
      ]
    },
    {
      "cell_type": "code",
      "execution_count": 7,
      "metadata": {},
      "outputs": [
        {
          "name": "stdout",
          "output_type": "stream",
          "text": [
            "['Biel', 'Nerea', 'Borja']\n"
          ]
        }
      ],
      "source": [
        "carrera = [\"Biel\", \"Nerea\", \"Borja\", \"Gerard\", \"Lluís\", \"Tim\"]\n",
        "\n",
        "podium = carrera[:3]\n",
        "print(podium)"
      ]
    },
    {
      "cell_type": "markdown",
      "metadata": {},
      "source": [
        "Si ara volguéssim els que han quedat a les posicions 4 i 5"
      ]
    },
    {
      "cell_type": "code",
      "execution_count": 8,
      "metadata": {},
      "outputs": [
        {
          "name": "stdout",
          "output_type": "stream",
          "text": [
            "['Gerard', 'Lluís']\n"
          ]
        }
      ],
      "source": [
        "carrera = [\"Biel\", \"Nerea\", \"Borja\", \"Gerard\", \"Lluís\", \"Tim\"]\n",
        "\n",
        "diploma = carrera[3:5]\n",
        "print(diploma)"
      ]
    },
    {
      "cell_type": "markdown",
      "metadata": {},
      "source": [
        "Ara volem fer una llista amb els darrers de la carrera, és a dir, tots els que han quedat més enrere que la 5a posició.\n",
        "\n",
        "Observa que en aquesta ocasió, el 5 no s'agafa."
      ]
    },
    {
      "cell_type": "code",
      "execution_count": 9,
      "metadata": {},
      "outputs": [
        {
          "name": "stdout",
          "output_type": "stream",
          "text": [
            "['Tim']\n"
          ]
        }
      ],
      "source": [
        "carrera = [\"Biel\", \"Nerea\", \"Borja\", \"Gerard\", \"Lluís\", \"Tim\"]\n",
        "\n",
        "darrers = carrera[5:]\n",
        "print(darrers)"
      ]
    },
    {
      "cell_type": "markdown",
      "metadata": {},
      "source": [
        "També podem emprar valors negatius per a començar pel final, per exemple, si volem llevar els dos darrers de la carrera que queden eliminats seria:"
      ]
    },
    {
      "cell_type": "code",
      "execution_count": 11,
      "metadata": {},
      "outputs": [
        {
          "name": "stdout",
          "output_type": "stream",
          "text": [
            "['Biel', 'Nerea', 'Borja', 'Gerard']\n"
          ]
        }
      ],
      "source": [
        "carrera = [\"Biel\", \"Nerea\", \"Borja\", \"Gerard\", \"Lluís\", \"Tim\"]\n",
        "\n",
        "classificats = carrera[:-2]\n",
        "print(classificats)"
      ]
    },
    {
      "cell_type": "markdown",
      "metadata": {},
      "source": [
        "Quan feiem una còpia d'una llista, hem emprat `[:]` que significa tota la llista."
      ]
    },
    {
      "cell_type": "code",
      "execution_count": 12,
      "metadata": {},
      "outputs": [
        {
          "name": "stdout",
          "output_type": "stream",
          "text": [
            "['Biel', 'Nerea', 'Borja', 'Gerard', 'Lluís', 'Tim']\n"
          ]
        }
      ],
      "source": [
        "carrera = [\"Biel\", \"Nerea\", \"Borja\", \"Gerard\", \"Lluís\", \"Tim\"]\n",
        "copia_carrera = carrera[:]\n",
        "print(copia_carrera)"
      ]
    },
    {
      "cell_type": "markdown",
      "metadata": {},
      "source": [
        "### Exercici\n",
        "\n",
        "Crea una llista amb els dies de la setmana i, a partir d'ella, crea diferents subllistes per a:\n",
        "* Els dies feiners\n",
        "* El cap de setmana\n",
        "* Tots els dies llevat dels dilluns i dimarts\n",
        "* Els dimecres, dijous i divendres\n",
        "* Tots els dies llevant el diumenge."
      ]
    },
    {
      "cell_type": "markdown",
      "metadata": {},
      "source": [
        "Afegeix una línia de codi"
      ]
    }
  ],
  "metadata": {
    "colab": {
      "provenance": []
    },
    "kernelspec": {
      "display_name": "Python 3",
      "name": "python3"
    },
    "language_info": {
      "codemirror_mode": {
        "name": "ipython",
        "version": 3
      },
      "file_extension": ".py",
      "mimetype": "text/x-python",
      "name": "python",
      "nbconvert_exporter": "python",
      "pygments_lexer": "ipython3",
      "version": "3.11.3"
    }
  },
  "nbformat": 4,
  "nbformat_minor": 0
}
